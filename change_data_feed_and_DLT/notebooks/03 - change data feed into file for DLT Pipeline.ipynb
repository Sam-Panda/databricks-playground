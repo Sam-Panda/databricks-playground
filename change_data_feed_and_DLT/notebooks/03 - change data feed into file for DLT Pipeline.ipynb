{
 "cells": [
  {
   "cell_type": "code",
   "execution_count": 0,
   "metadata": {
    "application/vnd.databricks.v1+cell": {
     "cellMetadata": {
      "byteLimit": 2048000,
      "rowLimit": 10000
     },
     "inputWidgets": {},
     "nuid": "2388688e-e4f0-45e2-bacb-a4275d579a6a",
     "showTitle": false,
     "title": ""
    }
   },
   "outputs": [],
   "source": [
    "delta_table_name = 'cdc_data.users_change_data_feed'\n"
   ]
  },
  {
   "cell_type": "code",
   "execution_count": 0,
   "metadata": {
    "application/vnd.databricks.v1+cell": {
     "cellMetadata": {
      "byteLimit": 2048000,
      "rowLimit": 10000
     },
     "inputWidgets": {},
     "nuid": "d34e5fb5-9fd9-4b33-85fb-d8e46e86fc4c",
     "showTitle": false,
     "title": ""
    }
   },
   "outputs": [
    {
     "output_type": "stream",
     "name": "stdout",
     "output_type": "stream",
     "text": [
      "2024-04-22 15:57:17.599729\ncdf_cdc_data_users_change_data_feed_000000002.csv\n"
     ]
    }
   ],
   "source": [
    "# Query to fetch the processed_end_timestamp and assign it to a variable\n",
    "query = f\"SELECT processed_end_timestamp, change_data_feed_file_name FROM cdc_data.control_table where delta_table_name = '{delta_table_name}'\"\n",
    "df = spark.sql(query)\n",
    "processed_end_timestamp = df.collect()[0][\"processed_end_timestamp\"]\n",
    "change_data_feed_file_name = df.collect()[0][\"change_data_feed_file_name\"]\n",
    "\n",
    "change_data_feed_file_name_prefix_words = change_data_feed_file_name.split(\".\")[0].split(\"_\")\n",
    "change_data_feed_file_name_prefix_words.pop()\n",
    "change_data_feed_file_name_prefix='_'.join(change_data_feed_file_name_prefix_words)\n",
    "\n",
    "change_data_feed_file_number = str(int(change_data_feed_file_name.split(\"_\")[-1].split(\".\")[0])+1).zfill(9)\n",
    "new_file_name = change_data_feed_file_name_prefix+\"_\"+change_data_feed_file_number+\".csv\"\n",
    "print(processed_end_timestamp)\n",
    "print(new_file_name)"
   ]
  },
  {
   "cell_type": "code",
   "execution_count": 0,
   "metadata": {
    "application/vnd.databricks.v1+cell": {
     "cellMetadata": {
      "byteLimit": 2048000,
      "implicitDf": true,
      "rowLimit": 10000
     },
     "inputWidgets": {},
     "nuid": "60289b66-4edc-4392-b963-027805ce776a",
     "showTitle": false,
     "title": ""
    }
   },
   "outputs": [],
   "source": [
    "query = f'''\n",
    "SELECT userid, name, city, modifiedtime, \n",
    "CASE _change_type\n",
    "    WHEN 'update_postimage' THEN 'update'\n",
    "    ELSE _change_type\n",
    "END AS operation\n",
    "FROM \n",
    "    (SELECT *\n",
    "    FROM table_changes('cdc_data.users_change_data_feed', '{processed_end_timestamp}')\n",
    "    WHERE _change_type != 'update_preimage')\n",
    "order by modifiedtime desc\n",
    "'''\n",
    "df = spark.sql(query)"
   ]
  },
  {
   "cell_type": "code",
   "execution_count": 0,
   "metadata": {
    "application/vnd.databricks.v1+cell": {
     "cellMetadata": {
      "byteLimit": 2048000,
      "rowLimit": 10000
     },
     "inputWidgets": {},
     "nuid": "114812e3-e7b0-437b-b239-7991724bc814",
     "showTitle": false,
     "title": ""
    }
   },
   "outputs": [
    {
     "output_type": "display_data",
     "data": {
      "text/html": [
       "<style scoped>\n",
       "  .table-result-container {\n",
       "    max-height: 300px;\n",
       "    overflow: auto;\n",
       "  }\n",
       "  table, th, td {\n",
       "    border: 1px solid black;\n",
       "    border-collapse: collapse;\n",
       "  }\n",
       "  th, td {\n",
       "    padding: 5px;\n",
       "  }\n",
       "  th {\n",
       "    text-align: left;\n",
       "  }\n",
       "</style><div class='table-result-container'><table class='table-result'><thead style='background-color: white'><tr><th>userid</th><th>name</th><th>city</th><th>modifiedtime</th><th>operation</th></tr></thead><tbody><tr><td>123</td><td>Raul-123-update1</td><td>Monterrey</td><td>2024-04-22T16:09:34.876+0000</td><td>update</td></tr><tr><td>132</td><td>Sam132</td><td>Owen</td><td>2024-04-22T16:09:30.966+0000</td><td>insert</td></tr></tbody></table></div>"
      ]
     },
     "metadata": {
      "application/vnd.databricks.v1+output": {
       "addedWidgets": {},
       "aggData": [],
       "aggError": "",
       "aggOverflow": false,
       "aggSchema": [],
       "aggSeriesLimitReached": false,
       "aggType": "",
       "arguments": {},
       "columnCustomDisplayInfos": {},
       "data": [
        [
         123,
         "Raul-123-update1",
         "Monterrey",
         "2024-04-22T16:09:34.876+0000",
         "update"
        ],
        [
         132,
         "Sam132",
         "Owen",
         "2024-04-22T16:09:30.966+0000",
         "insert"
        ]
       ],
       "datasetInfos": [],
       "dbfsResultPath": null,
       "isJsonSchema": true,
       "metadata": {},
       "overflow": false,
       "plotOptions": {
        "customPlotOptions": {},
        "displayType": "table",
        "pivotAggregation": null,
        "pivotColumns": null,
        "xColumns": null,
        "yColumns": null
       },
       "removedWidgets": [],
       "schema": [
        {
         "metadata": "{}",
         "name": "userid",
         "type": "\"integer\""
        },
        {
         "metadata": "{}",
         "name": "name",
         "type": "\"string\""
        },
        {
         "metadata": "{}",
         "name": "city",
         "type": "\"string\""
        },
        {
         "metadata": "{}",
         "name": "modifiedtime",
         "type": "\"timestamp\""
        },
        {
         "metadata": "{}",
         "name": "operation",
         "type": "\"string\""
        }
       ],
       "type": "table"
      }
     },
     "output_type": "display_data"
    }
   ],
   "source": [
    "display(df)"
   ]
  },
  {
   "cell_type": "code",
   "execution_count": 0,
   "metadata": {
    "application/vnd.databricks.v1+cell": {
     "cellMetadata": {
      "byteLimit": 2048000,
      "rowLimit": 10000
     },
     "inputWidgets": {},
     "nuid": "2a4fde49-7cfc-4dd1-8578-46efcb5e50ab",
     "showTitle": false,
     "title": ""
    }
   },
   "outputs": [
    {
     "output_type": "stream",
     "name": "stdout",
     "output_type": "stream",
     "text": [
      "Out[46]: True"
     ]
    }
   ],
   "source": [
    "import datetime\n",
    "current_timestamp = datetime.datetime.now().strftime(\"%Y-%m-%d_%H-%M-%S\")\n",
    "# the below code content to create single csv file \n",
    "csv_temp_location = f\"abfss://misc@adlsg2contosoodbk.dfs.core.windows.net/temp/change_data_feed1/{new_file_name}\"\n",
    "file_location = f\"abfss://misc@adlsg2contosoodbk.dfs.core.windows.net/change_data_feed1/{new_file_name}\"\n",
    "\n",
    "df.repartition(1).write.csv(path=csv_temp_location, mode=\"append\", header=\"true\")\n",
    "\n",
    "file = dbutils.fs.ls(csv_temp_location)[-1].path\n",
    "dbutils.fs.cp(file, file_location)\n",
    "dbutils.fs.rm(csv_temp_location, recurse=True)"
   ]
  },
  {
   "cell_type": "code",
   "execution_count": 0,
   "metadata": {
    "application/vnd.databricks.v1+cell": {
     "cellMetadata": {
      "byteLimit": 2048000,
      "implicitDf": true,
      "rowLimit": 10000
     },
     "inputWidgets": {},
     "nuid": "1800191e-2bd4-43d6-b231-3f2cac314cc8",
     "showTitle": false,
     "title": ""
    }
   },
   "outputs": [
    {
     "output_type": "stream",
     "name": "stdout",
     "output_type": "stream",
     "text": [
      "Out[47]: DataFrame[num_affected_rows: bigint]"
     ]
    }
   ],
   "source": [
    "current_timestamp = datetime.datetime.now()\n",
    "sqlquery = f'''\n",
    "update cdc_data.control_table \n",
    "set processed_end_timestamp='{current_timestamp}', change_data_feed_file_name='{new_file_name}', current_timestamp='{current_timestamp}'\n",
    "where delta_table_name = '{delta_table_name}'\n",
    "'''\n",
    "spark.sql(sqlquery)"
   ]
  },
  {
   "cell_type": "code",
   "execution_count": 0,
   "metadata": {
    "application/vnd.databricks.v1+cell": {
     "cellMetadata": {
      "byteLimit": 2048000,
      "implicitDf": true,
      "rowLimit": 10000
     },
     "inputWidgets": {},
     "nuid": "77a8ece5-805f-4e93-9e33-1b78a500598c",
     "showTitle": false,
     "title": ""
    }
   },
   "outputs": [
    {
     "output_type": "display_data",
     "data": {
      "text/html": [
       "<style scoped>\n",
       "  .table-result-container {\n",
       "    max-height: 300px;\n",
       "    overflow: auto;\n",
       "  }\n",
       "  table, th, td {\n",
       "    border: 1px solid black;\n",
       "    border-collapse: collapse;\n",
       "  }\n",
       "  th, td {\n",
       "    padding: 5px;\n",
       "  }\n",
       "  th {\n",
       "    text-align: left;\n",
       "  }\n",
       "</style><div class='table-result-container'><table class='table-result'><thead style='background-color: white'><tr><th>delta_table_name</th><th>processed_end_timestamp</th><th>change_data_feed_file_name</th><th>current_timestamp</th></tr></thead><tbody><tr><td>cdc_data.users_change_data_feed</td><td>2024-04-22T16:10:03.430+0000</td><td>cdf_cdc_data_users_change_data_feed_000000002.csv</td><td>2024-04-22T16:10:03.430+0000</td></tr></tbody></table></div>"
      ]
     },
     "metadata": {
      "application/vnd.databricks.v1+output": {
       "addedWidgets": {},
       "aggData": [],
       "aggError": "",
       "aggOverflow": false,
       "aggSchema": [],
       "aggSeriesLimitReached": false,
       "aggType": "",
       "arguments": {},
       "columnCustomDisplayInfos": {},
       "data": [
        [
         "cdc_data.users_change_data_feed",
         "2024-04-22T16:10:03.430+0000",
         "cdf_cdc_data_users_change_data_feed_000000002.csv",
         "2024-04-22T16:10:03.430+0000"
        ]
       ],
       "datasetInfos": [],
       "dbfsResultPath": null,
       "isJsonSchema": true,
       "metadata": {},
       "overflow": false,
       "plotOptions": {
        "customPlotOptions": {},
        "displayType": "table",
        "pivotAggregation": null,
        "pivotColumns": null,
        "xColumns": null,
        "yColumns": null
       },
       "removedWidgets": [],
       "schema": [
        {
         "metadata": "{}",
         "name": "delta_table_name",
         "type": "\"string\""
        },
        {
         "metadata": "{}",
         "name": "processed_end_timestamp",
         "type": "\"timestamp\""
        },
        {
         "metadata": "{}",
         "name": "change_data_feed_file_name",
         "type": "\"string\""
        },
        {
         "metadata": "{\"EXISTS_DEFAULT\":\"TIMESTAMP '2024-04-22 15:45:50.37'\",\"CURRENT_DEFAULT\":\"CURRENT_TIMESTAMP\"}",
         "name": "current_timestamp",
         "type": "\"timestamp\""
        }
       ],
       "type": "table"
      }
     },
     "output_type": "display_data"
    }
   ],
   "source": [
    "%sql\n",
    "\n",
    "select * from cdc_data.control_table"
   ]
  }
 ],
 "metadata": {
  "application/vnd.databricks.v1+notebook": {
   "dashboards": [],
   "language": "python",
   "notebookMetadata": {
    "mostRecentlyExecutedCommandWithImplicitDF": {
     "commandId": 261567912523278,
     "dataframes": [
      "_sqldf"
     ]
    },
    "pythonIndentUnit": 4
   },
   "notebookName": "03 - change data feed into file for DLT Pipeline",
   "widgets": {}
  }
 },
 "nbformat": 4,
 "nbformat_minor": 0
}
