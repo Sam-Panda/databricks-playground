{
 "cells": [
  {
   "cell_type": "code",
   "execution_count": 0,
   "metadata": {
    "application/vnd.databricks.v1+cell": {
     "cellMetadata": {},
     "inputWidgets": {},
     "nuid": "048ecb21-5421-41c9-a963-02d9dd004dcc",
     "showTitle": false,
     "title": ""
    }
   },
   "outputs": [],
   "source": [
    "import dlt\n",
    "from pyspark.sql.functions import col, expr"
   ]
  },
  {
   "cell_type": "code",
   "execution_count": 0,
   "metadata": {
    "application/vnd.databricks.v1+cell": {
     "cellMetadata": {},
     "inputWidgets": {},
     "nuid": "29f02f03-d973-4e7d-b0fc-12b11b75dc38",
     "showTitle": false,
     "title": ""
    }
   },
   "outputs": [],
   "source": [
    "folder_path = \"/mnt/external_datalake/misc/change_data_feed1\""
   ]
  },
  {
   "cell_type": "code",
   "execution_count": 0,
   "metadata": {
    "application/vnd.databricks.v1+cell": {
     "cellMetadata": {},
     "inputWidgets": {},
     "nuid": "891cd511-b287-4637-8a63-a07b20a0df7d",
     "showTitle": false,
     "title": ""
    }
   },
   "outputs": [],
   "source": [
    "@dlt.view\n",
    "def customer_bronze():\n",
    "  df = spark.readStream.format(\"cloudFiles\") \\\n",
    "      .option(\"cloudFiles.format\", \"csv\") \\\n",
    "      .load(folder_path)\n",
    "  return df\n"
   ]
  },
  {
   "cell_type": "code",
   "execution_count": 0,
   "metadata": {
    "application/vnd.databricks.v1+cell": {
     "cellMetadata": {},
     "inputWidgets": {},
     "nuid": "316070d1-5b2b-4350-b7b9-0a651526d911",
     "showTitle": false,
     "title": ""
    }
   },
   "outputs": [],
   "source": [
    "'''\n",
    "\n",
    "Use the apply_changes() function in the Python API to use Delta Live Tables CDC functionality. The Delta Live Tables Python CDC interface also provides the create_streaming_live_table() function. You can use this function to create the target table required by the apply_changes() function.\n",
    "\n",
    "'''\n",
    "\n",
    "\n",
    "dlt.create_streaming_live_table(\n",
    "  name = \"customer_silver_scd_type_1\",\n",
    "  comment = \" this is the silver data - SCD type 1\",\n",
    "  path = \"/mnt/external_datalake/cdcdata/tables/customer_silver_scd_type_1\",\n",
    "    table_properties={\n",
    "    \"quality\": \"silver\"\n",
    "  }\n",
    ")\n",
    "  \n",
    "dlt.apply_changes(\n",
    "  target = \"customer_silver_scd_type_1\",\n",
    "  source = \"customer_bronze\",\n",
    "  keys = [\"userid\"],\n",
    "  sequence_by = col(\"modifiedtime\"),\n",
    "  apply_as_deletes = expr(\"operation = 'DELETE'\"),\n",
    "  except_column_list = [\"operation\"],\n",
    "  stored_as_scd_type = \"1\"\n",
    ")"
   ]
  },
  {
   "cell_type": "code",
   "execution_count": 0,
   "metadata": {
    "application/vnd.databricks.v1+cell": {
     "cellMetadata": {},
     "inputWidgets": {},
     "nuid": "960a4a88-df53-4101-afaa-00b282355140",
     "showTitle": false,
     "title": ""
    }
   },
   "outputs": [],
   "source": [
    "dlt.create_streaming_live_table(\n",
    "  name = \"customer_silver_scd_type_2\",\n",
    "  comment = \" this is the silver data - SCD type 2\",\n",
    "  path = \"/mnt/external_datalake/cdcdata/tables/customer_silver_scd_type_2\",\n",
    "    table_properties={\n",
    "    \"quality\": \"silver\"\n",
    "  }\n",
    ")\n",
    "\n",
    "dlt.apply_changes(\n",
    "  target = \"customer_silver_scd_type_2\",\n",
    "  source = \"customer_bronze\",\n",
    "  keys = [\"userid\"],\n",
    "  sequence_by = col(\"modifiedtime\"),\n",
    "  apply_as_deletes = expr(\"operation = 'DELETE'\"),\n",
    "  except_column_list = [\"operation\"],\n",
    "  stored_as_scd_type = \"2\"\n",
    ")"
   ]
  }
 ],
 "metadata": {
  "application/vnd.databricks.v1+notebook": {
   "dashboards": [],
   "language": "python",
   "notebookMetadata": {
    "pythonIndentUnit": 4
   },
   "notebookName": "04 - DLT-PL-cdf",
   "widgets": {}
  }
 },
 "nbformat": 4,
 "nbformat_minor": 0
}
