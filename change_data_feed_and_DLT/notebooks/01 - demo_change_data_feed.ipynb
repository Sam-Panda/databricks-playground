{
 "cells": [
  {
   "cell_type": "markdown",
   "metadata": {
    "application/vnd.databricks.v1+cell": {
     "cellMetadata": {},
     "inputWidgets": {},
     "nuid": "47724e40-b0f1-40f4-8ea5-b15b7298aebd",
     "showTitle": false,
     "title": ""
    }
   },
   "source": [
    "Creating the demo table for the change data feed example."
   ]
  },
  {
   "cell_type": "code",
   "execution_count": 0,
   "metadata": {
    "application/vnd.databricks.v1+cell": {
     "cellMetadata": {
      "byteLimit": 2048000,
      "implicitDf": true,
      "rowLimit": 10000
     },
     "inputWidgets": {},
     "nuid": "4950cee3-e360-4b2f-9bd6-0d5cae212f45",
     "showTitle": false,
     "title": ""
    }
   },
   "outputs": [
    {
     "output_type": "display_data",
     "data": {
      "text/html": [
       "<style scoped>\n",
       "  .table-result-container {\n",
       "    max-height: 300px;\n",
       "    overflow: auto;\n",
       "  }\n",
       "  table, th, td {\n",
       "    border: 1px solid black;\n",
       "    border-collapse: collapse;\n",
       "  }\n",
       "  th, td {\n",
       "    padding: 5px;\n",
       "  }\n",
       "  th {\n",
       "    text-align: left;\n",
       "  }\n",
       "</style><div class='table-result-container'><table class='table-result'><thead style='background-color: white'><tr></tr></thead><tbody></tbody></table></div>"
      ]
     },
     "metadata": {
      "application/vnd.databricks.v1+output": {
       "addedWidgets": {},
       "aggData": [],
       "aggError": "",
       "aggOverflow": false,
       "aggSchema": [],
       "aggSeriesLimitReached": false,
       "aggType": "",
       "arguments": {},
       "columnCustomDisplayInfos": {},
       "data": [],
       "datasetInfos": [],
       "dbfsResultPath": null,
       "isJsonSchema": true,
       "metadata": {},
       "overflow": false,
       "plotOptions": {
        "customPlotOptions": {},
        "displayType": "table",
        "pivotAggregation": null,
        "pivotColumns": null,
        "xColumns": null,
        "yColumns": null
       },
       "removedWidgets": [],
       "schema": [],
       "type": "table"
      }
     },
     "output_type": "display_data"
    }
   ],
   "source": [
    "%sql\n",
    "-- DROP  TABLE IF EXISTS cdc_data.users_change_data_feed\n"
   ]
  },
  {
   "cell_type": "code",
   "execution_count": 0,
   "metadata": {
    "application/vnd.databricks.v1+cell": {
     "cellMetadata": {
      "byteLimit": 2048000,
      "implicitDf": true,
      "rowLimit": 10000
     },
     "inputWidgets": {},
     "nuid": "878cdac4-97f4-4506-95ea-462f0154ffa6",
     "showTitle": false,
     "title": ""
    }
   },
   "outputs": [
    {
     "output_type": "display_data",
     "data": {
      "text/html": [
       "<style scoped>\n",
       "  .table-result-container {\n",
       "    max-height: 300px;\n",
       "    overflow: auto;\n",
       "  }\n",
       "  table, th, td {\n",
       "    border: 1px solid black;\n",
       "    border-collapse: collapse;\n",
       "  }\n",
       "  th, td {\n",
       "    padding: 5px;\n",
       "  }\n",
       "  th {\n",
       "    text-align: left;\n",
       "  }\n",
       "</style><div class='table-result-container'><table class='table-result'><thead style='background-color: white'><tr></tr></thead><tbody></tbody></table></div>"
      ]
     },
     "metadata": {
      "application/vnd.databricks.v1+output": {
       "addedWidgets": {},
       "aggData": [],
       "aggError": "",
       "aggOverflow": false,
       "aggSchema": [],
       "aggSeriesLimitReached": false,
       "aggType": "",
       "arguments": {},
       "columnCustomDisplayInfos": {},
       "data": [],
       "datasetInfos": [],
       "dbfsResultPath": null,
       "isJsonSchema": true,
       "metadata": {},
       "overflow": false,
       "plotOptions": {
        "customPlotOptions": {},
        "displayType": "table",
        "pivotAggregation": null,
        "pivotColumns": null,
        "xColumns": null,
        "yColumns": null
       },
       "removedWidgets": [],
       "schema": [],
       "type": "table"
      }
     },
     "output_type": "display_data"
    }
   ],
   "source": [
    "%sql\n",
    "CREATE SCHEMA IF NOT EXISTS cdc_data;\n",
    "create table if not exists cdc_data.users_change_data_feed\n",
    "(\n",
    "  userid int,\n",
    "  name string, \n",
    "  city string, \n",
    "  modifiedtime timestamp\n",
    ")\n",
    "TBLPROPERTIES (delta.enableChangeDataFeed = true)"
   ]
  },
  {
   "cell_type": "code",
   "execution_count": 0,
   "metadata": {
    "application/vnd.databricks.v1+cell": {
     "cellMetadata": {
      "byteLimit": 2048000,
      "rowLimit": 10000
     },
     "inputWidgets": {},
     "nuid": "bc00becd-9073-4f58-8860-99b9b7d45ab3",
     "showTitle": false,
     "title": ""
    }
   },
   "outputs": [
    {
     "output_type": "stream",
     "name": "stdout",
     "output_type": "stream",
     "text": [
      "2022-03-26 20:27:16\n"
     ]
    }
   ],
   "source": [
    "import random\n",
    "from datetime import datetime, timedelta\n",
    "\n",
    "def generate_random_timestamp(start_date, end_date):\n",
    "    start_datetime = datetime.strptime(start_date, '%Y-%m-%d %H:%M:%S')\n",
    "    end_datetime = datetime.strptime(end_date, '%Y-%m-%d %H:%M:%S')\n",
    "\n",
    "    start_timestamp = int(start_datetime.timestamp())\n",
    "    end_timestamp = int(end_datetime.timestamp())\n",
    "    \n",
    "    random_timestamp = random.randint(start_timestamp, end_timestamp)\n",
    "    generated_datetime = datetime.fromtimestamp(random_timestamp)\n",
    "    \n",
    "    return generated_datetime\n",
    "\n",
    "# Example usage\n",
    "start_date = '2022-01-01 00:00:00'\n",
    "end_date = '2022-12-31 23:59:59'\n",
    "\n",
    "random_timestamp = generate_random_timestamp(start_date, end_date)\n",
    "print(random_timestamp)"
   ]
  },
  {
   "cell_type": "code",
   "execution_count": 0,
   "metadata": {
    "application/vnd.databricks.v1+cell": {
     "cellMetadata": {
      "byteLimit": 2048000,
      "implicitDf": true,
      "rowLimit": 10000
     },
     "inputWidgets": {},
     "nuid": "371a295e-f929-4a8f-8715-c1887720f212",
     "showTitle": false,
     "title": ""
    }
   },
   "outputs": [
    {
     "output_type": "display_data",
     "data": {
      "text/html": [
       "<style scoped>\n",
       "  .table-result-container {\n",
       "    max-height: 300px;\n",
       "    overflow: auto;\n",
       "  }\n",
       "  table, th, td {\n",
       "    border: 1px solid black;\n",
       "    border-collapse: collapse;\n",
       "  }\n",
       "  th, td {\n",
       "    padding: 5px;\n",
       "  }\n",
       "  th {\n",
       "    text-align: left;\n",
       "  }\n",
       "</style><div class='table-result-container'><table class='table-result'><thead style='background-color: white'><tr><th>num_affected_rows</th><th>num_inserted_rows</th></tr></thead><tbody><tr><td>4</td><td>4</td></tr></tbody></table></div>"
      ]
     },
     "metadata": {
      "application/vnd.databricks.v1+output": {
       "addedWidgets": {},
       "aggData": [],
       "aggError": "",
       "aggOverflow": false,
       "aggSchema": [],
       "aggSeriesLimitReached": false,
       "aggType": "",
       "arguments": {},
       "columnCustomDisplayInfos": {},
       "data": [
        [
         4,
         4
        ]
       ],
       "datasetInfos": [],
       "dbfsResultPath": null,
       "isJsonSchema": true,
       "metadata": {},
       "overflow": false,
       "plotOptions": {
        "customPlotOptions": {},
        "displayType": "table",
        "pivotAggregation": null,
        "pivotColumns": null,
        "xColumns": null,
        "yColumns": null
       },
       "removedWidgets": [],
       "schema": [
        {
         "metadata": "{}",
         "name": "num_affected_rows",
         "type": "\"long\""
        },
        {
         "metadata": "{}",
         "name": "num_inserted_rows",
         "type": "\"long\""
        }
       ],
       "type": "table"
      }
     },
     "output_type": "display_data"
    }
   ],
   "source": [
    "%sql\n",
    "INSERT INTO cdc_data.users_change_data_feed\n",
    "VALUES\n",
    "  -- Initial load.\n",
    "  (124, 'Raul', 'Oaxaca', '2022-08-04 20:44:23'),\n",
    "  (123, 'Isabel', 'Monterrey', '2022-10-11 07:50:42'),\n",
    "  -- New users.\n",
    "  (125, 'Mercedes', 'Tijuana', '2022-01-14 16:36:13'),\n",
    "  (126, 'Lily', 'Cancun', '2022-03-26 20:27:16')"
   ]
  },
  {
   "cell_type": "code",
   "execution_count": 0,
   "metadata": {
    "application/vnd.databricks.v1+cell": {
     "cellMetadata": {
      "byteLimit": 2048000,
      "implicitDf": true,
      "rowLimit": 10000
     },
     "inputWidgets": {},
     "nuid": "ae254164-b519-4802-a914-1fd9140ad1bd",
     "showTitle": false,
     "title": ""
    }
   },
   "outputs": [
    {
     "output_type": "display_data",
     "data": {
      "text/html": [
       "<style scoped>\n",
       "  .table-result-container {\n",
       "    max-height: 300px;\n",
       "    overflow: auto;\n",
       "  }\n",
       "  table, th, td {\n",
       "    border: 1px solid black;\n",
       "    border-collapse: collapse;\n",
       "  }\n",
       "  th, td {\n",
       "    padding: 5px;\n",
       "  }\n",
       "  th {\n",
       "    text-align: left;\n",
       "  }\n",
       "</style><div class='table-result-container'><table class='table-result'><thead style='background-color: white'><tr><th>userid</th><th>name</th><th>city</th><th>modifiedtime</th><th>_change_type</th><th>_commit_version</th><th>_commit_timestamp</th></tr></thead><tbody><tr><td>124</td><td>Raul</td><td>Oaxaca</td><td>2022-08-04T20:44:23.000+0000</td><td>insert</td><td>1</td><td>2024-04-20T13:52:50.000+0000</td></tr><tr><td>123</td><td>Isabel</td><td>Monterrey</td><td>2022-10-11T07:50:42.000+0000</td><td>insert</td><td>1</td><td>2024-04-20T13:52:50.000+0000</td></tr><tr><td>125</td><td>Mercedes</td><td>Tijuana</td><td>2022-01-14T16:36:13.000+0000</td><td>insert</td><td>1</td><td>2024-04-20T13:52:50.000+0000</td></tr><tr><td>126</td><td>Lily</td><td>Cancun</td><td>2022-03-26T20:27:16.000+0000</td><td>insert</td><td>1</td><td>2024-04-20T13:52:50.000+0000</td></tr></tbody></table></div>"
      ]
     },
     "metadata": {
      "application/vnd.databricks.v1+output": {
       "addedWidgets": {},
       "aggData": [],
       "aggError": "",
       "aggOverflow": false,
       "aggSchema": [],
       "aggSeriesLimitReached": false,
       "aggType": "",
       "arguments": {},
       "columnCustomDisplayInfos": {},
       "data": [
        [
         124,
         "Raul",
         "Oaxaca",
         "2022-08-04T20:44:23.000+0000",
         "insert",
         1,
         "2024-04-20T13:52:50.000+0000"
        ],
        [
         123,
         "Isabel",
         "Monterrey",
         "2022-10-11T07:50:42.000+0000",
         "insert",
         1,
         "2024-04-20T13:52:50.000+0000"
        ],
        [
         125,
         "Mercedes",
         "Tijuana",
         "2022-01-14T16:36:13.000+0000",
         "insert",
         1,
         "2024-04-20T13:52:50.000+0000"
        ],
        [
         126,
         "Lily",
         "Cancun",
         "2022-03-26T20:27:16.000+0000",
         "insert",
         1,
         "2024-04-20T13:52:50.000+0000"
        ]
       ],
       "datasetInfos": [],
       "dbfsResultPath": null,
       "isJsonSchema": true,
       "metadata": {},
       "overflow": false,
       "plotOptions": {
        "customPlotOptions": {},
        "displayType": "table",
        "pivotAggregation": null,
        "pivotColumns": null,
        "xColumns": null,
        "yColumns": null
       },
       "removedWidgets": [],
       "schema": [
        {
         "metadata": "{}",
         "name": "userid",
         "type": "\"integer\""
        },
        {
         "metadata": "{}",
         "name": "name",
         "type": "\"string\""
        },
        {
         "metadata": "{}",
         "name": "city",
         "type": "\"string\""
        },
        {
         "metadata": "{}",
         "name": "modifiedtime",
         "type": "\"timestamp\""
        },
        {
         "metadata": "{}",
         "name": "_change_type",
         "type": "\"string\""
        },
        {
         "metadata": "{}",
         "name": "_commit_version",
         "type": "\"long\""
        },
        {
         "metadata": "{}",
         "name": "_commit_timestamp",
         "type": "\"timestamp\""
        }
       ],
       "type": "table"
      }
     },
     "output_type": "display_data"
    }
   ],
   "source": [
    "%sql\n",
    "SELECT * FROM table_changes('cdc_data.users_change_data_feed',0)"
   ]
  },
  {
   "cell_type": "code",
   "execution_count": 0,
   "metadata": {
    "application/vnd.databricks.v1+cell": {
     "cellMetadata": {},
     "inputWidgets": {},
     "nuid": "66f19d39-73c6-41ee-a9bf-61ba92c5d76b",
     "showTitle": false,
     "title": ""
    }
   },
   "outputs": [],
   "source": []
  },
  {
   "cell_type": "code",
   "execution_count": 0,
   "metadata": {
    "application/vnd.databricks.v1+cell": {
     "cellMetadata": {
      "byteLimit": 2048000,
      "implicitDf": true,
      "rowLimit": 10000
     },
     "inputWidgets": {},
     "nuid": "9f367345-4a22-47bf-8956-e085d74ce0c8",
     "showTitle": false,
     "title": ""
    }
   },
   "outputs": [
    {
     "output_type": "display_data",
     "data": {
      "text/html": [
       "<style scoped>\n",
       "  .table-result-container {\n",
       "    max-height: 300px;\n",
       "    overflow: auto;\n",
       "  }\n",
       "  table, th, td {\n",
       "    border: 1px solid black;\n",
       "    border-collapse: collapse;\n",
       "  }\n",
       "  th, td {\n",
       "    padding: 5px;\n",
       "  }\n",
       "  th {\n",
       "    text-align: left;\n",
       "  }\n",
       "</style><div class='table-result-container'><table class='table-result'><thead style='background-color: white'><tr><th>num_affected_rows</th></tr></thead><tbody><tr><td>1</td></tr></tbody></table></div>"
      ]
     },
     "metadata": {
      "application/vnd.databricks.v1+output": {
       "addedWidgets": {},
       "aggData": [],
       "aggError": "",
       "aggOverflow": false,
       "aggSchema": [],
       "aggSeriesLimitReached": false,
       "aggType": "",
       "arguments": {},
       "columnCustomDisplayInfos": {},
       "data": [
        [
         1
        ]
       ],
       "datasetInfos": [],
       "dbfsResultPath": null,
       "isJsonSchema": true,
       "metadata": {},
       "overflow": false,
       "plotOptions": {
        "customPlotOptions": {},
        "displayType": "table",
        "pivotAggregation": null,
        "pivotColumns": null,
        "xColumns": null,
        "yColumns": null
       },
       "removedWidgets": [],
       "schema": [
        {
         "metadata": "{}",
         "name": "num_affected_rows",
         "type": "\"long\""
        }
       ],
       "type": "table"
      }
     },
     "output_type": "display_data"
    }
   ],
   "source": [
    "%sql\n",
    "INSERT INTO cdc_data.users_change_data_feed\n",
    "VALUES (130, 'Raul130', 'Oaxaca', current_timestamp());\n",
    "\n",
    "UPDATE cdc_data.users_change_data_feed\n",
    "SET name = 'Raul123', modifiedtime=current_timestamp()\n",
    "WHERE userid = 123;"
   ]
  },
  {
   "cell_type": "code",
   "execution_count": 0,
   "metadata": {
    "application/vnd.databricks.v1+cell": {
     "cellMetadata": {
      "byteLimit": 2048000,
      "implicitDf": true,
      "rowLimit": 10000
     },
     "inputWidgets": {},
     "nuid": "bc41b585-c4fb-4303-a1e0-ecff8e1c2a9d",
     "showTitle": false,
     "title": ""
    }
   },
   "outputs": [
    {
     "output_type": "display_data",
     "data": {
      "text/html": [
       "<style scoped>\n",
       "  .table-result-container {\n",
       "    max-height: 300px;\n",
       "    overflow: auto;\n",
       "  }\n",
       "  table, th, td {\n",
       "    border: 1px solid black;\n",
       "    border-collapse: collapse;\n",
       "  }\n",
       "  th, td {\n",
       "    padding: 5px;\n",
       "  }\n",
       "  th {\n",
       "    text-align: left;\n",
       "  }\n",
       "</style><div class='table-result-container'><table class='table-result'><thead style='background-color: white'><tr><th>userid</th><th>name</th><th>city</th><th>modifiedtime</th><th>_change_type</th><th>_commit_version</th><th>_commit_timestamp</th></tr></thead><tbody><tr><td>123</td><td>Isabel</td><td>Monterrey</td><td>2022-10-11T07:50:42.000+0000</td><td>update_preimage</td><td>3</td><td>2024-04-20T14:57:33.000+0000</td></tr><tr><td>123</td><td>Raul123</td><td>Monterrey</td><td>2024-04-20T14:57:16.194+0000</td><td>update_postimage</td><td>3</td><td>2024-04-20T14:57:33.000+0000</td></tr><tr><td>124</td><td>Raul</td><td>Oaxaca</td><td>2022-08-04T20:44:23.000+0000</td><td>insert</td><td>1</td><td>2024-04-20T13:52:50.000+0000</td></tr><tr><td>123</td><td>Isabel</td><td>Monterrey</td><td>2022-10-11T07:50:42.000+0000</td><td>insert</td><td>1</td><td>2024-04-20T13:52:50.000+0000</td></tr><tr><td>125</td><td>Mercedes</td><td>Tijuana</td><td>2022-01-14T16:36:13.000+0000</td><td>insert</td><td>1</td><td>2024-04-20T13:52:50.000+0000</td></tr><tr><td>126</td><td>Lily</td><td>Cancun</td><td>2022-03-26T20:27:16.000+0000</td><td>insert</td><td>1</td><td>2024-04-20T13:52:50.000+0000</td></tr><tr><td>130</td><td>Raul130</td><td>Oaxaca</td><td>2024-04-20T14:56:37.920+0000</td><td>insert</td><td>2</td><td>2024-04-20T14:57:11.000+0000</td></tr></tbody></table></div>"
      ]
     },
     "metadata": {
      "application/vnd.databricks.v1+output": {
       "addedWidgets": {},
       "aggData": [],
       "aggError": "",
       "aggOverflow": false,
       "aggSchema": [],
       "aggSeriesLimitReached": false,
       "aggType": "",
       "arguments": {},
       "columnCustomDisplayInfos": {},
       "data": [
        [
         123,
         "Isabel",
         "Monterrey",
         "2022-10-11T07:50:42.000+0000",
         "update_preimage",
         3,
         "2024-04-20T14:57:33.000+0000"
        ],
        [
         123,
         "Raul123",
         "Monterrey",
         "2024-04-20T14:57:16.194+0000",
         "update_postimage",
         3,
         "2024-04-20T14:57:33.000+0000"
        ],
        [
         124,
         "Raul",
         "Oaxaca",
         "2022-08-04T20:44:23.000+0000",
         "insert",
         1,
         "2024-04-20T13:52:50.000+0000"
        ],
        [
         123,
         "Isabel",
         "Monterrey",
         "2022-10-11T07:50:42.000+0000",
         "insert",
         1,
         "2024-04-20T13:52:50.000+0000"
        ],
        [
         125,
         "Mercedes",
         "Tijuana",
         "2022-01-14T16:36:13.000+0000",
         "insert",
         1,
         "2024-04-20T13:52:50.000+0000"
        ],
        [
         126,
         "Lily",
         "Cancun",
         "2022-03-26T20:27:16.000+0000",
         "insert",
         1,
         "2024-04-20T13:52:50.000+0000"
        ],
        [
         130,
         "Raul130",
         "Oaxaca",
         "2024-04-20T14:56:37.920+0000",
         "insert",
         2,
         "2024-04-20T14:57:11.000+0000"
        ]
       ],
       "datasetInfos": [],
       "dbfsResultPath": null,
       "isJsonSchema": true,
       "metadata": {},
       "overflow": false,
       "plotOptions": {
        "customPlotOptions": {},
        "displayType": "table",
        "pivotAggregation": null,
        "pivotColumns": null,
        "xColumns": null,
        "yColumns": null
       },
       "removedWidgets": [],
       "schema": [
        {
         "metadata": "{}",
         "name": "userid",
         "type": "\"integer\""
        },
        {
         "metadata": "{}",
         "name": "name",
         "type": "\"string\""
        },
        {
         "metadata": "{}",
         "name": "city",
         "type": "\"string\""
        },
        {
         "metadata": "{}",
         "name": "modifiedtime",
         "type": "\"timestamp\""
        },
        {
         "metadata": "{}",
         "name": "_change_type",
         "type": "\"string\""
        },
        {
         "metadata": "{}",
         "name": "_commit_version",
         "type": "\"long\""
        },
        {
         "metadata": "{}",
         "name": "_commit_timestamp",
         "type": "\"timestamp\""
        }
       ],
       "type": "table"
      }
     },
     "output_type": "display_data"
    }
   ],
   "source": [
    "%sql\n",
    "SELECT * FROM table_changes('cdc_data.users_change_data_feed',1)"
   ]
  },
  {
   "cell_type": "code",
   "execution_count": 0,
   "metadata": {
    "application/vnd.databricks.v1+cell": {
     "cellMetadata": {
      "byteLimit": 2048000,
      "implicitDf": true,
      "rowLimit": 10000
     },
     "inputWidgets": {},
     "nuid": "8a0787a5-ec19-41a6-a5be-dac3f5cf4cae",
     "showTitle": false,
     "title": ""
    }
   },
   "outputs": [
    {
     "output_type": "display_data",
     "data": {
      "text/html": [
       "<style scoped>\n",
       "  .table-result-container {\n",
       "    max-height: 300px;\n",
       "    overflow: auto;\n",
       "  }\n",
       "  table, th, td {\n",
       "    border: 1px solid black;\n",
       "    border-collapse: collapse;\n",
       "  }\n",
       "  th, td {\n",
       "    padding: 5px;\n",
       "  }\n",
       "  th {\n",
       "    text-align: left;\n",
       "  }\n",
       "</style><div class='table-result-container'><table class='table-result'><thead style='background-color: white'><tr><th>userid</th><th>name</th><th>city</th><th>modifiedtime</th></tr></thead><tbody><tr><td>124</td><td>Raul</td><td>Oaxaca</td><td>2022-08-04T20:44:23.000+0000</td></tr><tr><td>123</td><td>Raul-123</td><td>Monterrey</td><td>2024-04-22T07:54:14.665+0000</td></tr><tr><td>125</td><td>Mercedes</td><td>Tijuana</td><td>2022-01-14T16:36:13.000+0000</td></tr><tr><td>126</td><td>Lily</td><td>Cancun</td><td>2022-03-26T20:27:16.000+0000</td></tr><tr><td>130</td><td>Raul130</td><td>Oaxaca</td><td>2024-04-20T14:56:37.920+0000</td></tr><tr><td>131</td><td>Sam131</td><td>Owen</td><td>2024-04-22T07:54:09.116+0000</td></tr></tbody></table></div>"
      ]
     },
     "metadata": {
      "application/vnd.databricks.v1+output": {
       "addedWidgets": {},
       "aggData": [],
       "aggError": "",
       "aggOverflow": false,
       "aggSchema": [],
       "aggSeriesLimitReached": false,
       "aggType": "",
       "arguments": {},
       "columnCustomDisplayInfos": {},
       "data": [
        [
         124,
         "Raul",
         "Oaxaca",
         "2022-08-04T20:44:23.000+0000"
        ],
        [
         123,
         "Raul-123",
         "Monterrey",
         "2024-04-22T07:54:14.665+0000"
        ],
        [
         125,
         "Mercedes",
         "Tijuana",
         "2022-01-14T16:36:13.000+0000"
        ],
        [
         126,
         "Lily",
         "Cancun",
         "2022-03-26T20:27:16.000+0000"
        ],
        [
         130,
         "Raul130",
         "Oaxaca",
         "2024-04-20T14:56:37.920+0000"
        ],
        [
         131,
         "Sam131",
         "Owen",
         "2024-04-22T07:54:09.116+0000"
        ]
       ],
       "datasetInfos": [],
       "dbfsResultPath": null,
       "isJsonSchema": true,
       "metadata": {},
       "overflow": false,
       "plotOptions": {
        "customPlotOptions": {},
        "displayType": "table",
        "pivotAggregation": null,
        "pivotColumns": null,
        "xColumns": null,
        "yColumns": null
       },
       "removedWidgets": [],
       "schema": [
        {
         "metadata": "{}",
         "name": "userid",
         "type": "\"integer\""
        },
        {
         "metadata": "{}",
         "name": "name",
         "type": "\"string\""
        },
        {
         "metadata": "{}",
         "name": "city",
         "type": "\"string\""
        },
        {
         "metadata": "{}",
         "name": "modifiedtime",
         "type": "\"timestamp\""
        }
       ],
       "type": "table"
      }
     },
     "output_type": "display_data"
    }
   ],
   "source": [
    "%sql\n",
    "\n",
    "select * from  cdc_data.users_change_data_feed"
   ]
  },
  {
   "cell_type": "code",
   "execution_count": 0,
   "metadata": {
    "application/vnd.databricks.v1+cell": {
     "cellMetadata": {
      "byteLimit": 2048000,
      "implicitDf": true,
      "rowLimit": 10000
     },
     "inputWidgets": {},
     "nuid": "5b972def-fa0e-4a53-9baa-15a42112a3dc",
     "showTitle": false,
     "title": ""
    }
   },
   "outputs": [
    {
     "output_type": "display_data",
     "data": {
      "text/html": [
       "<style scoped>\n",
       "  .table-result-container {\n",
       "    max-height: 300px;\n",
       "    overflow: auto;\n",
       "  }\n",
       "  table, th, td {\n",
       "    border: 1px solid black;\n",
       "    border-collapse: collapse;\n",
       "  }\n",
       "  th, td {\n",
       "    padding: 5px;\n",
       "  }\n",
       "  th {\n",
       "    text-align: left;\n",
       "  }\n",
       "</style><div class='table-result-container'><table class='table-result'><thead style='background-color: white'><tr><th>userid</th><th>name</th><th>city</th><th>modifiedtime</th><th>_rescued_data</th></tr></thead><tbody><tr><td>131</td><td>Sam131</td><td>Owen</td><td>2024-04-22T07:54:09.116Z</td><td>null</td></tr><tr><td>130</td><td>Raul130</td><td>Oaxaca</td><td>2024-04-20T14:56:37.920Z</td><td>null</td></tr><tr><td>126</td><td>Lily</td><td>Cancun</td><td>2022-03-26T20:27:16.000Z</td><td>null</td></tr><tr><td>125</td><td>Mercedes</td><td>Tijuana</td><td>2022-01-14T16:36:13.000Z</td><td>null</td></tr><tr><td>124</td><td>Raul</td><td>Oaxaca</td><td>2022-08-04T20:44:23.000Z</td><td>null</td></tr><tr><td>123</td><td>Raul-123</td><td>Monterrey</td><td>2024-04-22T07:54:14.665Z</td><td>null</td></tr></tbody></table></div>"
      ]
     },
     "metadata": {
      "application/vnd.databricks.v1+output": {
       "addedWidgets": {},
       "aggData": [],
       "aggError": "",
       "aggOverflow": false,
       "aggSchema": [],
       "aggSeriesLimitReached": false,
       "aggType": "",
       "arguments": {},
       "columnCustomDisplayInfos": {},
       "data": [
        [
         "131",
         "Sam131",
         "Owen",
         "2024-04-22T07:54:09.116Z",
         null
        ],
        [
         "130",
         "Raul130",
         "Oaxaca",
         "2024-04-20T14:56:37.920Z",
         null
        ],
        [
         "126",
         "Lily",
         "Cancun",
         "2022-03-26T20:27:16.000Z",
         null
        ],
        [
         "125",
         "Mercedes",
         "Tijuana",
         "2022-01-14T16:36:13.000Z",
         null
        ],
        [
         "124",
         "Raul",
         "Oaxaca",
         "2022-08-04T20:44:23.000Z",
         null
        ],
        [
         "123",
         "Raul-123",
         "Monterrey",
         "2024-04-22T07:54:14.665Z",
         null
        ]
       ],
       "datasetInfos": [],
       "dbfsResultPath": null,
       "isJsonSchema": true,
       "metadata": {},
       "overflow": false,
       "plotOptions": {
        "customPlotOptions": {},
        "displayType": "table",
        "pivotAggregation": null,
        "pivotColumns": null,
        "xColumns": null,
        "yColumns": null
       },
       "removedWidgets": [],
       "schema": [
        {
         "metadata": "{}",
         "name": "userid",
         "type": "\"string\""
        },
        {
         "metadata": "{}",
         "name": "name",
         "type": "\"string\""
        },
        {
         "metadata": "{}",
         "name": "city",
         "type": "\"string\""
        },
        {
         "metadata": "{}",
         "name": "modifiedtime",
         "type": "\"string\""
        },
        {
         "metadata": "{}",
         "name": "_rescued_data",
         "type": "\"string\""
        }
       ],
       "type": "table"
      }
     },
     "output_type": "display_data"
    }
   ],
   "source": [
    "%sql\n",
    "\n",
    "select * from hive_metastore.cdc_data.customer_silver_scd_type_1 order by userid desc"
   ]
  },
  {
   "cell_type": "code",
   "execution_count": 0,
   "metadata": {
    "application/vnd.databricks.v1+cell": {
     "cellMetadata": {
      "byteLimit": 2048000,
      "implicitDf": true,
      "rowLimit": 10000
     },
     "inputWidgets": {},
     "nuid": "2d1fbd3e-b746-4954-b3e8-8da7775a78ab",
     "showTitle": false,
     "title": ""
    }
   },
   "outputs": [
    {
     "output_type": "display_data",
     "data": {
      "text/html": [
       "<style scoped>\n",
       "  .table-result-container {\n",
       "    max-height: 300px;\n",
       "    overflow: auto;\n",
       "  }\n",
       "  table, th, td {\n",
       "    border: 1px solid black;\n",
       "    border-collapse: collapse;\n",
       "  }\n",
       "  th, td {\n",
       "    padding: 5px;\n",
       "  }\n",
       "  th {\n",
       "    text-align: left;\n",
       "  }\n",
       "</style><div class='table-result-container'><table class='table-result'><thead style='background-color: white'><tr><th>userid</th><th>name</th><th>city</th><th>modifiedtime</th><th>_rescued_data</th><th>__START_AT</th><th>__END_AT</th></tr></thead><tbody><tr><td>131</td><td>Sam131</td><td>Owen</td><td>2024-04-22T07:54:09.116Z</td><td>null</td><td>2024-04-22T07:54:09.116Z</td><td>null</td></tr><tr><td>130</td><td>Raul130</td><td>Oaxaca</td><td>2024-04-20T14:56:37.920Z</td><td>null</td><td>2024-04-20T14:56:37.920Z</td><td>null</td></tr><tr><td>126</td><td>Lily</td><td>Cancun</td><td>2022-03-26T20:27:16.000Z</td><td>null</td><td>2022-03-26T20:27:16.000Z</td><td>null</td></tr><tr><td>125</td><td>Mercedes</td><td>Tijuana</td><td>2022-01-14T16:36:13.000Z</td><td>null</td><td>2022-01-14T16:36:13.000Z</td><td>null</td></tr><tr><td>124</td><td>Raul</td><td>Oaxaca</td><td>2022-08-04T20:44:23.000Z</td><td>null</td><td>2022-08-04T20:44:23.000Z</td><td>null</td></tr><tr><td>123</td><td>Raul123</td><td>Monterrey</td><td>2024-04-20T14:57:16.194Z</td><td>null</td><td>2024-04-20T14:57:16.194Z</td><td>2024-04-22T07:54:14.665Z</td></tr><tr><td>123</td><td>Isabel</td><td>Monterrey</td><td>2022-10-11T07:50:42.000Z</td><td>null</td><td>2022-10-11T07:50:42.000Z</td><td>2024-04-20T14:57:16.194Z</td></tr><tr><td>123</td><td>Raul-123</td><td>Monterrey</td><td>2024-04-22T07:54:14.665Z</td><td>null</td><td>2024-04-22T07:54:14.665Z</td><td>null</td></tr></tbody></table></div>"
      ]
     },
     "metadata": {
      "application/vnd.databricks.v1+output": {
       "addedWidgets": {},
       "aggData": [],
       "aggError": "",
       "aggOverflow": false,
       "aggSchema": [],
       "aggSeriesLimitReached": false,
       "aggType": "",
       "arguments": {},
       "columnCustomDisplayInfos": {},
       "data": [
        [
         "131",
         "Sam131",
         "Owen",
         "2024-04-22T07:54:09.116Z",
         null,
         "2024-04-22T07:54:09.116Z",
         null
        ],
        [
         "130",
         "Raul130",
         "Oaxaca",
         "2024-04-20T14:56:37.920Z",
         null,
         "2024-04-20T14:56:37.920Z",
         null
        ],
        [
         "126",
         "Lily",
         "Cancun",
         "2022-03-26T20:27:16.000Z",
         null,
         "2022-03-26T20:27:16.000Z",
         null
        ],
        [
         "125",
         "Mercedes",
         "Tijuana",
         "2022-01-14T16:36:13.000Z",
         null,
         "2022-01-14T16:36:13.000Z",
         null
        ],
        [
         "124",
         "Raul",
         "Oaxaca",
         "2022-08-04T20:44:23.000Z",
         null,
         "2022-08-04T20:44:23.000Z",
         null
        ],
        [
         "123",
         "Raul123",
         "Monterrey",
         "2024-04-20T14:57:16.194Z",
         null,
         "2024-04-20T14:57:16.194Z",
         "2024-04-22T07:54:14.665Z"
        ],
        [
         "123",
         "Isabel",
         "Monterrey",
         "2022-10-11T07:50:42.000Z",
         null,
         "2022-10-11T07:50:42.000Z",
         "2024-04-20T14:57:16.194Z"
        ],
        [
         "123",
         "Raul-123",
         "Monterrey",
         "2024-04-22T07:54:14.665Z",
         null,
         "2024-04-22T07:54:14.665Z",
         null
        ]
       ],
       "datasetInfos": [],
       "dbfsResultPath": null,
       "isJsonSchema": true,
       "metadata": {},
       "overflow": false,
       "plotOptions": {
        "customPlotOptions": {},
        "displayType": "table",
        "pivotAggregation": null,
        "pivotColumns": null,
        "xColumns": null,
        "yColumns": null
       },
       "removedWidgets": [],
       "schema": [
        {
         "metadata": "{}",
         "name": "userid",
         "type": "\"string\""
        },
        {
         "metadata": "{}",
         "name": "name",
         "type": "\"string\""
        },
        {
         "metadata": "{}",
         "name": "city",
         "type": "\"string\""
        },
        {
         "metadata": "{}",
         "name": "modifiedtime",
         "type": "\"string\""
        },
        {
         "metadata": "{}",
         "name": "_rescued_data",
         "type": "\"string\""
        },
        {
         "metadata": "{}",
         "name": "__START_AT",
         "type": "\"string\""
        },
        {
         "metadata": "{}",
         "name": "__END_AT",
         "type": "\"string\""
        }
       ],
       "type": "table"
      }
     },
     "output_type": "display_data"
    }
   ],
   "source": [
    "%sql\n",
    "\n",
    "select * from hive_metastore.cdc_data.customer_silver_scd_type_2 order by userid desc"
   ]
  },
  {
   "cell_type": "code",
   "execution_count": 0,
   "metadata": {
    "application/vnd.databricks.v1+cell": {
     "cellMetadata": {
      "byteLimit": 2048000,
      "implicitDf": true,
      "rowLimit": 10000
     },
     "inputWidgets": {},
     "nuid": "ecc79bce-1e52-42f0-a823-8a3eb26fe049",
     "showTitle": false,
     "title": ""
    }
   },
   "outputs": [
    {
     "output_type": "display_data",
     "data": {
      "text/html": [
       "<style scoped>\n",
       "  .table-result-container {\n",
       "    max-height: 300px;\n",
       "    overflow: auto;\n",
       "  }\n",
       "  table, th, td {\n",
       "    border: 1px solid black;\n",
       "    border-collapse: collapse;\n",
       "  }\n",
       "  th, td {\n",
       "    padding: 5px;\n",
       "  }\n",
       "  th {\n",
       "    text-align: left;\n",
       "  }\n",
       "</style><div class='table-result-container'><table class='table-result'><thead style='background-color: white'><tr><th>num_affected_rows</th></tr></thead><tbody><tr><td>1</td></tr></tbody></table></div>"
      ]
     },
     "metadata": {
      "application/vnd.databricks.v1+output": {
       "addedWidgets": {},
       "aggData": [],
       "aggError": "",
       "aggOverflow": false,
       "aggSchema": [],
       "aggSeriesLimitReached": false,
       "aggType": "",
       "arguments": {},
       "columnCustomDisplayInfos": {},
       "data": [
        [
         1
        ]
       ],
       "datasetInfos": [],
       "dbfsResultPath": null,
       "isJsonSchema": true,
       "metadata": {},
       "overflow": false,
       "plotOptions": {
        "customPlotOptions": {},
        "displayType": "table",
        "pivotAggregation": null,
        "pivotColumns": null,
        "xColumns": null,
        "yColumns": null
       },
       "removedWidgets": [],
       "schema": [
        {
         "metadata": "{}",
         "name": "num_affected_rows",
         "type": "\"long\""
        }
       ],
       "type": "table"
      }
     },
     "output_type": "display_data"
    }
   ],
   "source": [
    "%sql\n",
    "INSERT INTO cdc_data.users_change_data_feed\n",
    "VALUES (132, 'Sam132', 'Owen', current_timestamp());\n",
    "\n",
    "UPDATE cdc_data.users_change_data_feed\n",
    "SET name = 'Raul-123-update1', modifiedtime=current_timestamp()\n",
    "WHERE userid = 123;"
   ]
  }
 ],
 "metadata": {
  "application/vnd.databricks.v1+notebook": {
   "dashboards": [],
   "language": "python",
   "notebookMetadata": {
    "mostRecentlyExecutedCommandWithImplicitDF": {
     "commandId": 261567912523281,
     "dataframes": [
      "_sqldf"
     ]
    },
    "pythonIndentUnit": 4
   },
   "notebookName": "01 - demo_change_data_feed",
   "widgets": {}
  }
 },
 "nbformat": 4,
 "nbformat_minor": 0
}
